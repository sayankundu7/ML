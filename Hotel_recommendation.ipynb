{
 "cells": [
  {
   "cell_type": "code",
   "execution_count": 263,
   "id": "e429d957",
   "metadata": {},
   "outputs": [],
   "source": [
    "import numpy as np\n",
    "import pandas as pd\n",
    "import seaborn as sns\n",
    "import matplotlib.pyplot as plt\n",
    "from sklearn.feature_extraction.text import TfidfVectorizer\n",
    "from sklearn.cluster import KMeans\n",
    "from sklearn.metrics.pairwise import cosine_similarity\n",
    "from sklearn.preprocessing import StandardScaler"
   ]
  },
  {
   "cell_type": "code",
   "execution_count": 264,
   "id": "b47e221a",
   "metadata": {},
   "outputs": [],
   "source": [
    "hotel_details=pd.read_csv('Hotel_details.csv',delimiter=',')\n",
    "hotel_rooms=pd.read_csv('Hotel_Room_attributes.csv',delimiter=',')\n",
    "hotel_cost=pd.read_csv('hotels_RoomPrice.csv',delimiter=',')"
   ]
  },
  {
   "cell_type": "code",
   "execution_count": 265,
   "id": "5354f9d3",
   "metadata": {},
   "outputs": [
    {
     "data": {
      "text/html": [
       "<div>\n",
       "<style scoped>\n",
       "    .dataframe tbody tr th:only-of-type {\n",
       "        vertical-align: middle;\n",
       "    }\n",
       "\n",
       "    .dataframe tbody tr th {\n",
       "        vertical-align: top;\n",
       "    }\n",
       "\n",
       "    .dataframe thead th {\n",
       "        text-align: right;\n",
       "    }\n",
       "</style>\n",
       "<table border=\"1\" class=\"dataframe\">\n",
       "  <thead>\n",
       "    <tr style=\"text-align: right;\">\n",
       "      <th></th>\n",
       "      <th>id</th>\n",
       "      <th>hotelid</th>\n",
       "      <th>hotelname</th>\n",
       "      <th>address</th>\n",
       "      <th>city</th>\n",
       "      <th>country</th>\n",
       "      <th>zipcode</th>\n",
       "      <th>propertytype</th>\n",
       "      <th>starrating</th>\n",
       "      <th>latitude</th>\n",
       "      <th>longitude</th>\n",
       "      <th>Source</th>\n",
       "      <th>url</th>\n",
       "      <th>curr</th>\n",
       "    </tr>\n",
       "  </thead>\n",
       "  <tbody>\n",
       "    <tr>\n",
       "      <th>0</th>\n",
       "      <td>46406</td>\n",
       "      <td>1771651</td>\n",
       "      <td>Mediteran Bungalow Galeb</td>\n",
       "      <td>Vukovarska 7</td>\n",
       "      <td>Omis</td>\n",
       "      <td>Croatia</td>\n",
       "      <td>21310.0</td>\n",
       "      <td>Holiday parks</td>\n",
       "      <td>4</td>\n",
       "      <td>43.440124</td>\n",
       "      <td>16.682505</td>\n",
       "      <td>2</td>\n",
       "      <td>https://www.booking.com/hotel/hr/bungalow-luxu...</td>\n",
       "      <td>EUR</td>\n",
       "    </tr>\n",
       "    <tr>\n",
       "      <th>1</th>\n",
       "      <td>46407</td>\n",
       "      <td>177167</td>\n",
       "      <td>Hotel Polonia</td>\n",
       "      <td>Plac Teatralny 5</td>\n",
       "      <td>Torun</td>\n",
       "      <td>Poland</td>\n",
       "      <td>NaN</td>\n",
       "      <td>Hotels</td>\n",
       "      <td>3</td>\n",
       "      <td>53.012329</td>\n",
       "      <td>18.603800</td>\n",
       "      <td>5</td>\n",
       "      <td>https://www.agoda.com/en-gb/hotel-polonia/hote...</td>\n",
       "      <td>EUR</td>\n",
       "    </tr>\n",
       "    <tr>\n",
       "      <th>2</th>\n",
       "      <td>46408</td>\n",
       "      <td>1771675</td>\n",
       "      <td>Rifugio Sass Bece</td>\n",
       "      <td>Belvedere del Pordoi,1</td>\n",
       "      <td>Canazei</td>\n",
       "      <td>Italy</td>\n",
       "      <td>38032.0</td>\n",
       "      <td>Hotels</td>\n",
       "      <td>3</td>\n",
       "      <td>46.477920</td>\n",
       "      <td>11.813350</td>\n",
       "      <td>2</td>\n",
       "      <td>http://www.booking.com/hotel/it/rifugio-sass-b...</td>\n",
       "      <td>EUR</td>\n",
       "    </tr>\n",
       "    <tr>\n",
       "      <th>3</th>\n",
       "      <td>46409</td>\n",
       "      <td>177168</td>\n",
       "      <td>Madalena Hotel</td>\n",
       "      <td>Mykonos</td>\n",
       "      <td>Mykonos</td>\n",
       "      <td>Greece</td>\n",
       "      <td>84600.0</td>\n",
       "      <td>Hotels</td>\n",
       "      <td>3</td>\n",
       "      <td>37.452316</td>\n",
       "      <td>25.329849</td>\n",
       "      <td>5</td>\n",
       "      <td>https://www.agoda.com/en-gb/madalena-hotel/hot...</td>\n",
       "      <td>EUR</td>\n",
       "    </tr>\n",
       "    <tr>\n",
       "      <th>4</th>\n",
       "      <td>46410</td>\n",
       "      <td>1771718</td>\n",
       "      <td>Pension Morenfeld</td>\n",
       "      <td>Mair im Korn Strasse 2</td>\n",
       "      <td>Lagundo</td>\n",
       "      <td>Italy</td>\n",
       "      <td>39022.0</td>\n",
       "      <td>Hotels</td>\n",
       "      <td>3</td>\n",
       "      <td>46.682780</td>\n",
       "      <td>11.131736</td>\n",
       "      <td>2</td>\n",
       "      <td>http://www.booking.com/hotel/it/pension-morenf...</td>\n",
       "      <td>EUR</td>\n",
       "    </tr>\n",
       "  </tbody>\n",
       "</table>\n",
       "</div>"
      ],
      "text/plain": [
       "      id  hotelid                 hotelname                 address     city  \\\n",
       "0  46406  1771651  Mediteran Bungalow Galeb            Vukovarska 7     Omis   \n",
       "1  46407   177167             Hotel Polonia        Plac Teatralny 5    Torun   \n",
       "2  46408  1771675         Rifugio Sass Bece  Belvedere del Pordoi,1  Canazei   \n",
       "3  46409   177168            Madalena Hotel                 Mykonos  Mykonos   \n",
       "4  46410  1771718         Pension Morenfeld  Mair im Korn Strasse 2  Lagundo   \n",
       "\n",
       "   country  zipcode   propertytype  starrating   latitude  longitude  Source  \\\n",
       "0  Croatia  21310.0  Holiday parks           4  43.440124  16.682505       2   \n",
       "1   Poland      NaN         Hotels           3  53.012329  18.603800       5   \n",
       "2    Italy  38032.0         Hotels           3  46.477920  11.813350       2   \n",
       "3   Greece  84600.0         Hotels           3  37.452316  25.329849       5   \n",
       "4    Italy  39022.0         Hotels           3  46.682780  11.131736       2   \n",
       "\n",
       "                                                 url curr  \n",
       "0  https://www.booking.com/hotel/hr/bungalow-luxu...  EUR  \n",
       "1  https://www.agoda.com/en-gb/hotel-polonia/hote...  EUR  \n",
       "2  http://www.booking.com/hotel/it/rifugio-sass-b...  EUR  \n",
       "3  https://www.agoda.com/en-gb/madalena-hotel/hot...  EUR  \n",
       "4  http://www.booking.com/hotel/it/pension-morenf...  EUR  "
      ]
     },
     "execution_count": 265,
     "metadata": {},
     "output_type": "execute_result"
    }
   ],
   "source": [
    "hotel_details.head()"
   ]
  },
  {
   "cell_type": "code",
   "execution_count": 266,
   "id": "33fcfce0",
   "metadata": {},
   "outputs": [
    {
     "data": {
      "text/html": [
       "<div>\n",
       "<style scoped>\n",
       "    .dataframe tbody tr th:only-of-type {\n",
       "        vertical-align: middle;\n",
       "    }\n",
       "\n",
       "    .dataframe tbody tr th {\n",
       "        vertical-align: top;\n",
       "    }\n",
       "\n",
       "    .dataframe thead th {\n",
       "        text-align: right;\n",
       "    }\n",
       "</style>\n",
       "<table border=\"1\" class=\"dataframe\">\n",
       "  <thead>\n",
       "    <tr style=\"text-align: right;\">\n",
       "      <th></th>\n",
       "      <th>id</th>\n",
       "      <th>hotelcode</th>\n",
       "      <th>roomamenities</th>\n",
       "      <th>roomtype</th>\n",
       "      <th>ratedescription</th>\n",
       "    </tr>\n",
       "  </thead>\n",
       "  <tbody>\n",
       "    <tr>\n",
       "      <th>0</th>\n",
       "      <td>50677497</td>\n",
       "      <td>634876</td>\n",
       "      <td>Air conditioning: ;Alarm clock: ;Carpeting: ;C...</td>\n",
       "      <td>Double Room</td>\n",
       "      <td>Room size: 15 m²/161 ft², Shower, 1 king bed</td>\n",
       "    </tr>\n",
       "    <tr>\n",
       "      <th>1</th>\n",
       "      <td>50672149</td>\n",
       "      <td>8328096</td>\n",
       "      <td>Air conditioning: ;Closet: ;Fireplace: ;Free W...</td>\n",
       "      <td>Vacation Home</td>\n",
       "      <td>Shower, Kitchenette, 2 bedrooms, 1 double bed ...</td>\n",
       "    </tr>\n",
       "    <tr>\n",
       "      <th>2</th>\n",
       "      <td>50643430</td>\n",
       "      <td>8323442</td>\n",
       "      <td>Air conditioning: ;Closet: ;Dishwasher: ;Firep...</td>\n",
       "      <td>Vacation Home</td>\n",
       "      <td>Shower, Kitchenette, 2 bedrooms, 1 double bed ...</td>\n",
       "    </tr>\n",
       "    <tr>\n",
       "      <th>3</th>\n",
       "      <td>50650317</td>\n",
       "      <td>7975</td>\n",
       "      <td>Air conditioning: ;Clothes rack: ;Coffee/tea m...</td>\n",
       "      <td>Standard Triple Room</td>\n",
       "      <td>Room size: 20 m²/215 ft², Shower, 3 single beds</td>\n",
       "    </tr>\n",
       "    <tr>\n",
       "      <th>4</th>\n",
       "      <td>50650318</td>\n",
       "      <td>7975</td>\n",
       "      <td>Air conditioning: ;Clothes rack: ;Coffee/tea m...</td>\n",
       "      <td>Standard Triple Room</td>\n",
       "      <td>Room size: 20 m²/215 ft², Shower, 3 single beds</td>\n",
       "    </tr>\n",
       "  </tbody>\n",
       "</table>\n",
       "</div>"
      ],
      "text/plain": [
       "         id  hotelcode                                      roomamenities  \\\n",
       "0  50677497     634876  Air conditioning: ;Alarm clock: ;Carpeting: ;C...   \n",
       "1  50672149    8328096  Air conditioning: ;Closet: ;Fireplace: ;Free W...   \n",
       "2  50643430    8323442  Air conditioning: ;Closet: ;Dishwasher: ;Firep...   \n",
       "3  50650317       7975  Air conditioning: ;Clothes rack: ;Coffee/tea m...   \n",
       "4  50650318       7975  Air conditioning: ;Clothes rack: ;Coffee/tea m...   \n",
       "\n",
       "               roomtype                                    ratedescription  \n",
       "0           Double Room       Room size: 15 m²/161 ft², Shower, 1 king bed  \n",
       "1         Vacation Home  Shower, Kitchenette, 2 bedrooms, 1 double bed ...  \n",
       "2         Vacation Home  Shower, Kitchenette, 2 bedrooms, 1 double bed ...  \n",
       "3  Standard Triple Room    Room size: 20 m²/215 ft², Shower, 3 single beds  \n",
       "4  Standard Triple Room    Room size: 20 m²/215 ft², Shower, 3 single beds  "
      ]
     },
     "execution_count": 266,
     "metadata": {},
     "output_type": "execute_result"
    }
   ],
   "source": [
    "hotel_rooms.head()"
   ]
  },
  {
   "cell_type": "code",
   "execution_count": null,
   "id": "7408b61c",
   "metadata": {},
   "outputs": [],
   "source": []
  },
  {
   "cell_type": "code",
   "execution_count": 267,
   "id": "66ee217a",
   "metadata": {},
   "outputs": [],
   "source": [
    "del hotel_details['id']\n",
    "del hotel_rooms['id']\n",
    "del hotel_details['zipcode']"
   ]
  },
  {
   "cell_type": "code",
   "execution_count": 268,
   "id": "37128564",
   "metadata": {},
   "outputs": [],
   "source": [
    "hotel_details=hotel_details.dropna()\n",
    "hotel_rooms=hotel_rooms.dropna()"
   ]
  },
  {
   "cell_type": "code",
   "execution_count": 269,
   "id": "2ceca014",
   "metadata": {},
   "outputs": [],
   "source": [
    "hotel_details.drop_duplicates(subset='hotelid',keep=False,inplace=True)"
   ]
  },
  {
   "cell_type": "code",
   "execution_count": 270,
   "id": "763a9d02",
   "metadata": {},
   "outputs": [],
   "source": [
    "hotel_total=pd.merge(hotel_rooms,hotel_details,left_on='hotelcode',right_on='hotelid',how='inner')"
   ]
  },
  {
   "cell_type": "code",
   "execution_count": 271,
   "id": "5ff3ab57",
   "metadata": {},
   "outputs": [
    {
     "data": {
      "text/plain": [
       "Index(['hotelcode', 'roomamenities', 'roomtype', 'ratedescription', 'hotelid',\n",
       "       'hotelname', 'address', 'city', 'country', 'propertytype', 'starrating',\n",
       "       'latitude', 'longitude', 'Source', 'url', 'curr'],\n",
       "      dtype='object')"
      ]
     },
     "execution_count": 271,
     "metadata": {},
     "output_type": "execute_result"
    }
   ],
   "source": [
    "hotel_total.columns\n"
   ]
  },
  {
   "cell_type": "code",
   "execution_count": 272,
   "id": "dbcccade",
   "metadata": {},
   "outputs": [],
   "source": [
    "del hotel_total['hotelid']\n",
    "del hotel_total['url']\n",
    "del hotel_total['curr']\n",
    "del hotel_total['Source']"
   ]
  },
  {
   "cell_type": "code",
   "execution_count": 273,
   "id": "10b76411",
   "metadata": {},
   "outputs": [
    {
     "data": {
      "text/plain": [
       "Index(['hotelcode', 'roomamenities', 'roomtype', 'ratedescription',\n",
       "       'hotelname', 'address', 'city', 'country', 'propertytype', 'starrating',\n",
       "       'latitude', 'longitude'],\n",
       "      dtype='object')"
      ]
     },
     "execution_count": 273,
     "metadata": {},
     "output_type": "execute_result"
    }
   ],
   "source": [
    "hotel_total.columns"
   ]
  },
  {
   "cell_type": "code",
   "execution_count": 274,
   "id": "2fba5d34",
   "metadata": {},
   "outputs": [
    {
     "data": {
      "text/html": [
       "<div>\n",
       "<style scoped>\n",
       "    .dataframe tbody tr th:only-of-type {\n",
       "        vertical-align: middle;\n",
       "    }\n",
       "\n",
       "    .dataframe tbody tr th {\n",
       "        vertical-align: top;\n",
       "    }\n",
       "\n",
       "    .dataframe thead th {\n",
       "        text-align: right;\n",
       "    }\n",
       "</style>\n",
       "<table border=\"1\" class=\"dataframe\">\n",
       "  <thead>\n",
       "    <tr style=\"text-align: right;\">\n",
       "      <th></th>\n",
       "      <th>hotelcode</th>\n",
       "      <th>roomamenities</th>\n",
       "      <th>roomtype</th>\n",
       "      <th>ratedescription</th>\n",
       "      <th>hotelname</th>\n",
       "      <th>address</th>\n",
       "      <th>city</th>\n",
       "      <th>country</th>\n",
       "      <th>propertytype</th>\n",
       "      <th>starrating</th>\n",
       "      <th>latitude</th>\n",
       "      <th>longitude</th>\n",
       "    </tr>\n",
       "  </thead>\n",
       "  <tbody>\n",
       "    <tr>\n",
       "      <th>0</th>\n",
       "      <td>634876</td>\n",
       "      <td>Air conditioning: ;Alarm clock: ;Carpeting: ;C...</td>\n",
       "      <td>Double Room</td>\n",
       "      <td>Room size: 15 m²/161 ft², Shower, 1 king bed</td>\n",
       "      <td>The Old Cider House</td>\n",
       "      <td>25 Castle Street</td>\n",
       "      <td>Nether Stowey</td>\n",
       "      <td>United Kingdom</td>\n",
       "      <td>Hotels</td>\n",
       "      <td>4</td>\n",
       "      <td>51.150921</td>\n",
       "      <td>-3.15847</td>\n",
       "    </tr>\n",
       "    <tr>\n",
       "      <th>1</th>\n",
       "      <td>634876</td>\n",
       "      <td>Air conditioning: ;Alarm clock: ;Carpeting: ;C...</td>\n",
       "      <td>Double Room</td>\n",
       "      <td>Room size: 15 m²/161 ft², Shower, 1 king bed</td>\n",
       "      <td>The Old Cider House</td>\n",
       "      <td>25 Castle Street</td>\n",
       "      <td>Nether Stowey</td>\n",
       "      <td>United Kingdom</td>\n",
       "      <td>Hotels</td>\n",
       "      <td>4</td>\n",
       "      <td>51.150921</td>\n",
       "      <td>-3.15847</td>\n",
       "    </tr>\n",
       "    <tr>\n",
       "      <th>2</th>\n",
       "      <td>634876</td>\n",
       "      <td>Air conditioning: ;Alarm clock: ;Carpeting: ;C...</td>\n",
       "      <td>Deluxe Double Room with Shower</td>\n",
       "      <td>Room size: 17 m²/183 ft², Shower, 1 queen bed ...</td>\n",
       "      <td>The Old Cider House</td>\n",
       "      <td>25 Castle Street</td>\n",
       "      <td>Nether Stowey</td>\n",
       "      <td>United Kingdom</td>\n",
       "      <td>Hotels</td>\n",
       "      <td>4</td>\n",
       "      <td>51.150921</td>\n",
       "      <td>-3.15847</td>\n",
       "    </tr>\n",
       "    <tr>\n",
       "      <th>3</th>\n",
       "      <td>634876</td>\n",
       "      <td>Air conditioning: ;Alarm clock: ;Carpeting: ;C...</td>\n",
       "      <td>Superior Double Room</td>\n",
       "      <td>Room size: 17 m²/183 ft², Shower, 1 double bed</td>\n",
       "      <td>The Old Cider House</td>\n",
       "      <td>25 Castle Street</td>\n",
       "      <td>Nether Stowey</td>\n",
       "      <td>United Kingdom</td>\n",
       "      <td>Hotels</td>\n",
       "      <td>4</td>\n",
       "      <td>51.150921</td>\n",
       "      <td>-3.15847</td>\n",
       "    </tr>\n",
       "    <tr>\n",
       "      <th>4</th>\n",
       "      <td>634876</td>\n",
       "      <td>Air conditioning: ;Alarm clock: ;Carpeting: ;C...</td>\n",
       "      <td>Standard Double or Twin Room</td>\n",
       "      <td>Room size: 13 m²/140 ft², Shower, 1 queen bed ...</td>\n",
       "      <td>The Old Cider House</td>\n",
       "      <td>25 Castle Street</td>\n",
       "      <td>Nether Stowey</td>\n",
       "      <td>United Kingdom</td>\n",
       "      <td>Hotels</td>\n",
       "      <td>4</td>\n",
       "      <td>51.150921</td>\n",
       "      <td>-3.15847</td>\n",
       "    </tr>\n",
       "  </tbody>\n",
       "</table>\n",
       "</div>"
      ],
      "text/plain": [
       "   hotelcode                                      roomamenities  \\\n",
       "0     634876  Air conditioning: ;Alarm clock: ;Carpeting: ;C...   \n",
       "1     634876  Air conditioning: ;Alarm clock: ;Carpeting: ;C...   \n",
       "2     634876  Air conditioning: ;Alarm clock: ;Carpeting: ;C...   \n",
       "3     634876  Air conditioning: ;Alarm clock: ;Carpeting: ;C...   \n",
       "4     634876  Air conditioning: ;Alarm clock: ;Carpeting: ;C...   \n",
       "\n",
       "                         roomtype  \\\n",
       "0                     Double Room   \n",
       "1                     Double Room   \n",
       "2  Deluxe Double Room with Shower   \n",
       "3            Superior Double Room   \n",
       "4    Standard Double or Twin Room   \n",
       "\n",
       "                                     ratedescription            hotelname  \\\n",
       "0       Room size: 15 m²/161 ft², Shower, 1 king bed  The Old Cider House   \n",
       "1       Room size: 15 m²/161 ft², Shower, 1 king bed  The Old Cider House   \n",
       "2  Room size: 17 m²/183 ft², Shower, 1 queen bed ...  The Old Cider House   \n",
       "3     Room size: 17 m²/183 ft², Shower, 1 double bed  The Old Cider House   \n",
       "4  Room size: 13 m²/140 ft², Shower, 1 queen bed ...  The Old Cider House   \n",
       "\n",
       "            address           city         country propertytype  starrating  \\\n",
       "0  25 Castle Street  Nether Stowey  United Kingdom       Hotels           4   \n",
       "1  25 Castle Street  Nether Stowey  United Kingdom       Hotels           4   \n",
       "2  25 Castle Street  Nether Stowey  United Kingdom       Hotels           4   \n",
       "3  25 Castle Street  Nether Stowey  United Kingdom       Hotels           4   \n",
       "4  25 Castle Street  Nether Stowey  United Kingdom       Hotels           4   \n",
       "\n",
       "    latitude  longitude  \n",
       "0  51.150921   -3.15847  \n",
       "1  51.150921   -3.15847  \n",
       "2  51.150921   -3.15847  \n",
       "3  51.150921   -3.15847  \n",
       "4  51.150921   -3.15847  "
      ]
     },
     "execution_count": 274,
     "metadata": {},
     "output_type": "execute_result"
    }
   ],
   "source": [
    "hotel_total.head()"
   ]
  },
  {
   "cell_type": "code",
   "execution_count": 275,
   "id": "a48a1175",
   "metadata": {},
   "outputs": [
    {
     "data": {
      "text/plain": [
       "(145425, 12)"
      ]
     },
     "execution_count": 275,
     "metadata": {},
     "output_type": "execute_result"
    }
   ],
   "source": [
    "hotel_total.shape"
   ]
  },
  {
   "cell_type": "code",
   "execution_count": 276,
   "id": "d652fc79",
   "metadata": {},
   "outputs": [
    {
     "data": {
      "text/plain": [
       "hotelcode           8098\n",
       "roomamenities      20716\n",
       "roomtype            7743\n",
       "ratedescription    12933\n",
       "hotelname           7951\n",
       "address             7877\n",
       "city                4116\n",
       "country               29\n",
       "propertytype           5\n",
       "starrating             3\n",
       "latitude            8071\n",
       "longitude           8087\n",
       "dtype: int64"
      ]
     },
     "execution_count": 276,
     "metadata": {},
     "output_type": "execute_result"
    }
   ],
   "source": [
    "hotel_total.nunique()"
   ]
  },
  {
   "cell_type": "code",
   "execution_count": 277,
   "id": "e8a4ad8a",
   "metadata": {},
   "outputs": [
    {
     "data": {
      "text/plain": [
       "array(['Hotels', 'Resorts', 'Motels', 'Inns', 'Holiday parks'],\n",
       "      dtype=object)"
      ]
     },
     "execution_count": 277,
     "metadata": {},
     "output_type": "execute_result"
    }
   ],
   "source": [
    "hotel_total['propertytype'].unique()"
   ]
  },
  {
   "cell_type": "code",
   "execution_count": 278,
   "id": "0c56ec71",
   "metadata": {},
   "outputs": [
    {
     "data": {
      "text/plain": [
       "array([4, 2, 3], dtype=int64)"
      ]
     },
     "execution_count": 278,
     "metadata": {},
     "output_type": "execute_result"
    }
   ],
   "source": [
    "hotel_total['starrating'].unique()"
   ]
  },
  {
   "cell_type": "code",
   "execution_count": null,
   "id": "46b33aa9",
   "metadata": {},
   "outputs": [],
   "source": []
  },
  {
   "cell_type": "code",
   "execution_count": 279,
   "id": "939d6eb3",
   "metadata": {},
   "outputs": [],
   "source": [
    "# Drop unnecessary columns\n",
    "hotel = hotel_total[['starrating', 'latitude', 'longitude', 'hotelcode', 'hotelname']]\n"
   ]
  },
  {
   "cell_type": "code",
   "execution_count": 280,
   "id": "bbfe5702",
   "metadata": {},
   "outputs": [
    {
     "data": {
      "text/html": [
       "<div>\n",
       "<style scoped>\n",
       "    .dataframe tbody tr th:only-of-type {\n",
       "        vertical-align: middle;\n",
       "    }\n",
       "\n",
       "    .dataframe tbody tr th {\n",
       "        vertical-align: top;\n",
       "    }\n",
       "\n",
       "    .dataframe thead th {\n",
       "        text-align: right;\n",
       "    }\n",
       "</style>\n",
       "<table border=\"1\" class=\"dataframe\">\n",
       "  <thead>\n",
       "    <tr style=\"text-align: right;\">\n",
       "      <th></th>\n",
       "      <th>starrating</th>\n",
       "      <th>latitude</th>\n",
       "      <th>longitude</th>\n",
       "      <th>hotelcode</th>\n",
       "      <th>hotelname</th>\n",
       "    </tr>\n",
       "  </thead>\n",
       "  <tbody>\n",
       "    <tr>\n",
       "      <th>0</th>\n",
       "      <td>4</td>\n",
       "      <td>51.150921</td>\n",
       "      <td>-3.15847</td>\n",
       "      <td>634876</td>\n",
       "      <td>The Old Cider House</td>\n",
       "    </tr>\n",
       "    <tr>\n",
       "      <th>1</th>\n",
       "      <td>4</td>\n",
       "      <td>51.150921</td>\n",
       "      <td>-3.15847</td>\n",
       "      <td>634876</td>\n",
       "      <td>The Old Cider House</td>\n",
       "    </tr>\n",
       "    <tr>\n",
       "      <th>2</th>\n",
       "      <td>4</td>\n",
       "      <td>51.150921</td>\n",
       "      <td>-3.15847</td>\n",
       "      <td>634876</td>\n",
       "      <td>The Old Cider House</td>\n",
       "    </tr>\n",
       "    <tr>\n",
       "      <th>3</th>\n",
       "      <td>4</td>\n",
       "      <td>51.150921</td>\n",
       "      <td>-3.15847</td>\n",
       "      <td>634876</td>\n",
       "      <td>The Old Cider House</td>\n",
       "    </tr>\n",
       "    <tr>\n",
       "      <th>4</th>\n",
       "      <td>4</td>\n",
       "      <td>51.150921</td>\n",
       "      <td>-3.15847</td>\n",
       "      <td>634876</td>\n",
       "      <td>The Old Cider House</td>\n",
       "    </tr>\n",
       "  </tbody>\n",
       "</table>\n",
       "</div>"
      ],
      "text/plain": [
       "   starrating   latitude  longitude  hotelcode            hotelname\n",
       "0           4  51.150921   -3.15847     634876  The Old Cider House\n",
       "1           4  51.150921   -3.15847     634876  The Old Cider House\n",
       "2           4  51.150921   -3.15847     634876  The Old Cider House\n",
       "3           4  51.150921   -3.15847     634876  The Old Cider House\n",
       "4           4  51.150921   -3.15847     634876  The Old Cider House"
      ]
     },
     "execution_count": 280,
     "metadata": {},
     "output_type": "execute_result"
    }
   ],
   "source": [
    "hotel.head()"
   ]
  },
  {
   "cell_type": "code",
   "execution_count": 281,
   "id": "567e410e",
   "metadata": {},
   "outputs": [
    {
     "name": "stderr",
     "output_type": "stream",
     "text": [
      "C:\\Users\\SAYAN\\AppData\\Local\\Temp\\ipykernel_16340\\3545794560.py:2: SettingWithCopyWarning: \n",
      "A value is trying to be set on a copy of a slice from a DataFrame.\n",
      "Try using .loc[row_indexer,col_indexer] = value instead\n",
      "\n",
      "See the caveats in the documentation: https://pandas.pydata.org/pandas-docs/stable/user_guide/indexing.html#returning-a-view-versus-a-copy\n",
      "  hotel['avg_rating'] = hotel.groupby('hotelcode')['starrating'].transform('mean')\n"
     ]
    }
   ],
   "source": [
    "# Calculate average rating for each hotel and create a new column 'avg_rating'\n",
    "hotel['avg_rating'] = hotel.groupby('hotelcode')['starrating'].transform('mean')\n"
   ]
  },
  {
   "cell_type": "code",
   "execution_count": 282,
   "id": "63921ad3",
   "metadata": {},
   "outputs": [],
   "source": [
    "# Display the updated DataFrame"
   ]
  },
  {
   "cell_type": "code",
   "execution_count": 283,
   "id": "ef1900e2",
   "metadata": {},
   "outputs": [
    {
     "data": {
      "text/html": [
       "<div>\n",
       "<style scoped>\n",
       "    .dataframe tbody tr th:only-of-type {\n",
       "        vertical-align: middle;\n",
       "    }\n",
       "\n",
       "    .dataframe tbody tr th {\n",
       "        vertical-align: top;\n",
       "    }\n",
       "\n",
       "    .dataframe thead th {\n",
       "        text-align: right;\n",
       "    }\n",
       "</style>\n",
       "<table border=\"1\" class=\"dataframe\">\n",
       "  <thead>\n",
       "    <tr style=\"text-align: right;\">\n",
       "      <th></th>\n",
       "      <th>starrating</th>\n",
       "      <th>latitude</th>\n",
       "      <th>longitude</th>\n",
       "      <th>hotelcode</th>\n",
       "      <th>hotelname</th>\n",
       "      <th>avg_rating</th>\n",
       "    </tr>\n",
       "  </thead>\n",
       "  <tbody>\n",
       "    <tr>\n",
       "      <th>0</th>\n",
       "      <td>4</td>\n",
       "      <td>51.150921</td>\n",
       "      <td>-3.15847</td>\n",
       "      <td>634876</td>\n",
       "      <td>The Old Cider House</td>\n",
       "      <td>4.0</td>\n",
       "    </tr>\n",
       "    <tr>\n",
       "      <th>1</th>\n",
       "      <td>4</td>\n",
       "      <td>51.150921</td>\n",
       "      <td>-3.15847</td>\n",
       "      <td>634876</td>\n",
       "      <td>The Old Cider House</td>\n",
       "      <td>4.0</td>\n",
       "    </tr>\n",
       "    <tr>\n",
       "      <th>2</th>\n",
       "      <td>4</td>\n",
       "      <td>51.150921</td>\n",
       "      <td>-3.15847</td>\n",
       "      <td>634876</td>\n",
       "      <td>The Old Cider House</td>\n",
       "      <td>4.0</td>\n",
       "    </tr>\n",
       "    <tr>\n",
       "      <th>3</th>\n",
       "      <td>4</td>\n",
       "      <td>51.150921</td>\n",
       "      <td>-3.15847</td>\n",
       "      <td>634876</td>\n",
       "      <td>The Old Cider House</td>\n",
       "      <td>4.0</td>\n",
       "    </tr>\n",
       "    <tr>\n",
       "      <th>4</th>\n",
       "      <td>4</td>\n",
       "      <td>51.150921</td>\n",
       "      <td>-3.15847</td>\n",
       "      <td>634876</td>\n",
       "      <td>The Old Cider House</td>\n",
       "      <td>4.0</td>\n",
       "    </tr>\n",
       "  </tbody>\n",
       "</table>\n",
       "</div>"
      ],
      "text/plain": [
       "   starrating   latitude  longitude  hotelcode            hotelname  \\\n",
       "0           4  51.150921   -3.15847     634876  The Old Cider House   \n",
       "1           4  51.150921   -3.15847     634876  The Old Cider House   \n",
       "2           4  51.150921   -3.15847     634876  The Old Cider House   \n",
       "3           4  51.150921   -3.15847     634876  The Old Cider House   \n",
       "4           4  51.150921   -3.15847     634876  The Old Cider House   \n",
       "\n",
       "   avg_rating  \n",
       "0         4.0  \n",
       "1         4.0  \n",
       "2         4.0  \n",
       "3         4.0  \n",
       "4         4.0  "
      ]
     },
     "execution_count": 283,
     "metadata": {},
     "output_type": "execute_result"
    }
   ],
   "source": [
    "hotel.head()"
   ]
  },
  {
   "cell_type": "code",
   "execution_count": 284,
   "id": "305969e8",
   "metadata": {},
   "outputs": [],
   "source": [
    "# Remove duplicates based on 'hotelcode'\n",
    "hotel = hotel.drop_duplicates(subset='hotelcode')"
   ]
  },
  {
   "cell_type": "code",
   "execution_count": 285,
   "id": "c059d6fb",
   "metadata": {},
   "outputs": [
    {
     "data": {
      "text/html": [
       "<div>\n",
       "<style scoped>\n",
       "    .dataframe tbody tr th:only-of-type {\n",
       "        vertical-align: middle;\n",
       "    }\n",
       "\n",
       "    .dataframe tbody tr th {\n",
       "        vertical-align: top;\n",
       "    }\n",
       "\n",
       "    .dataframe thead th {\n",
       "        text-align: right;\n",
       "    }\n",
       "</style>\n",
       "<table border=\"1\" class=\"dataframe\">\n",
       "  <thead>\n",
       "    <tr style=\"text-align: right;\">\n",
       "      <th></th>\n",
       "      <th>starrating</th>\n",
       "      <th>latitude</th>\n",
       "      <th>longitude</th>\n",
       "      <th>hotelcode</th>\n",
       "      <th>hotelname</th>\n",
       "      <th>avg_rating</th>\n",
       "    </tr>\n",
       "  </thead>\n",
       "  <tbody>\n",
       "    <tr>\n",
       "      <th>0</th>\n",
       "      <td>4</td>\n",
       "      <td>51.150921</td>\n",
       "      <td>-3.158470</td>\n",
       "      <td>634876</td>\n",
       "      <td>The Old Cider House</td>\n",
       "      <td>4.0</td>\n",
       "    </tr>\n",
       "    <tr>\n",
       "      <th>10</th>\n",
       "      <td>2</td>\n",
       "      <td>51.511234</td>\n",
       "      <td>-0.185117</td>\n",
       "      <td>7975</td>\n",
       "      <td>Apollo Hotel London</td>\n",
       "      <td>2.0</td>\n",
       "    </tr>\n",
       "    <tr>\n",
       "      <th>17</th>\n",
       "      <td>3</td>\n",
       "      <td>48.116974</td>\n",
       "      <td>11.535338</td>\n",
       "      <td>59961</td>\n",
       "      <td>Hotel Rivoli</td>\n",
       "      <td>3.0</td>\n",
       "    </tr>\n",
       "    <tr>\n",
       "      <th>42</th>\n",
       "      <td>3</td>\n",
       "      <td>48.850101</td>\n",
       "      <td>2.292774</td>\n",
       "      <td>6825</td>\n",
       "      <td>Timhotel Tour Eiffel</td>\n",
       "      <td>3.0</td>\n",
       "    </tr>\n",
       "    <tr>\n",
       "      <th>62</th>\n",
       "      <td>4</td>\n",
       "      <td>53.469963</td>\n",
       "      <td>-2.282662</td>\n",
       "      <td>1198059</td>\n",
       "      <td>AC Hotel Manchester Salford Quays</td>\n",
       "      <td>4.0</td>\n",
       "    </tr>\n",
       "  </tbody>\n",
       "</table>\n",
       "</div>"
      ],
      "text/plain": [
       "    starrating   latitude  longitude  hotelcode  \\\n",
       "0            4  51.150921  -3.158470     634876   \n",
       "10           2  51.511234  -0.185117       7975   \n",
       "17           3  48.116974  11.535338      59961   \n",
       "42           3  48.850101   2.292774       6825   \n",
       "62           4  53.469963  -2.282662    1198059   \n",
       "\n",
       "                            hotelname  avg_rating  \n",
       "0                 The Old Cider House         4.0  \n",
       "10                Apollo Hotel London         2.0  \n",
       "17                       Hotel Rivoli         3.0  \n",
       "42               Timhotel Tour Eiffel         3.0  \n",
       "62  AC Hotel Manchester Salford Quays         4.0  "
      ]
     },
     "execution_count": 285,
     "metadata": {},
     "output_type": "execute_result"
    }
   ],
   "source": [
    "hotel.head()"
   ]
  },
  {
   "cell_type": "code",
   "execution_count": 298,
   "id": "02a3788c",
   "metadata": {},
   "outputs": [
    {
     "data": {
      "text/plain": [
       "starrating    0\n",
       "latitude      0\n",
       "longitude     0\n",
       "hotelcode     0\n",
       "hotelname     0\n",
       "avg_rating    0\n",
       "dtype: int64"
      ]
     },
     "execution_count": 298,
     "metadata": {},
     "output_type": "execute_result"
    }
   ],
   "source": [
    "#cheeking null values\n",
    "hotel.isnull().sum()"
   ]
  },
  {
   "cell_type": "code",
   "execution_count": 286,
   "id": "cb5e257b",
   "metadata": {},
   "outputs": [],
   "source": [
    "df=hotel[['avg_rating', 'latitude', 'longitude']]"
   ]
  },
  {
   "cell_type": "code",
   "execution_count": 287,
   "id": "70bb4cfc",
   "metadata": {},
   "outputs": [
    {
     "data": {
      "text/html": [
       "<div>\n",
       "<style scoped>\n",
       "    .dataframe tbody tr th:only-of-type {\n",
       "        vertical-align: middle;\n",
       "    }\n",
       "\n",
       "    .dataframe tbody tr th {\n",
       "        vertical-align: top;\n",
       "    }\n",
       "\n",
       "    .dataframe thead th {\n",
       "        text-align: right;\n",
       "    }\n",
       "</style>\n",
       "<table border=\"1\" class=\"dataframe\">\n",
       "  <thead>\n",
       "    <tr style=\"text-align: right;\">\n",
       "      <th></th>\n",
       "      <th>avg_rating</th>\n",
       "      <th>latitude</th>\n",
       "      <th>longitude</th>\n",
       "    </tr>\n",
       "  </thead>\n",
       "  <tbody>\n",
       "    <tr>\n",
       "      <th>0</th>\n",
       "      <td>4.0</td>\n",
       "      <td>51.150921</td>\n",
       "      <td>-3.158470</td>\n",
       "    </tr>\n",
       "    <tr>\n",
       "      <th>10</th>\n",
       "      <td>2.0</td>\n",
       "      <td>51.511234</td>\n",
       "      <td>-0.185117</td>\n",
       "    </tr>\n",
       "    <tr>\n",
       "      <th>17</th>\n",
       "      <td>3.0</td>\n",
       "      <td>48.116974</td>\n",
       "      <td>11.535338</td>\n",
       "    </tr>\n",
       "    <tr>\n",
       "      <th>42</th>\n",
       "      <td>3.0</td>\n",
       "      <td>48.850101</td>\n",
       "      <td>2.292774</td>\n",
       "    </tr>\n",
       "    <tr>\n",
       "      <th>62</th>\n",
       "      <td>4.0</td>\n",
       "      <td>53.469963</td>\n",
       "      <td>-2.282662</td>\n",
       "    </tr>\n",
       "  </tbody>\n",
       "</table>\n",
       "</div>"
      ],
      "text/plain": [
       "    avg_rating   latitude  longitude\n",
       "0          4.0  51.150921  -3.158470\n",
       "10         2.0  51.511234  -0.185117\n",
       "17         3.0  48.116974  11.535338\n",
       "42         3.0  48.850101   2.292774\n",
       "62         4.0  53.469963  -2.282662"
      ]
     },
     "execution_count": 287,
     "metadata": {},
     "output_type": "execute_result"
    }
   ],
   "source": [
    "df.head()"
   ]
  },
  {
   "cell_type": "code",
   "execution_count": 288,
   "id": "ecf721d0",
   "metadata": {},
   "outputs": [
    {
     "name": "stderr",
     "output_type": "stream",
     "text": [
      "C:\\Users\\SAYAN\\AppData\\Local\\Temp\\ipykernel_16340\\3119369848.py:3: SettingWithCopyWarning: \n",
      "A value is trying to be set on a copy of a slice from a DataFrame.\n",
      "Try using .loc[row_indexer,col_indexer] = value instead\n",
      "\n",
      "See the caveats in the documentation: https://pandas.pydata.org/pandas-docs/stable/user_guide/indexing.html#returning-a-view-versus-a-copy\n",
      "  df[['avg_rating', 'latitude', 'longitude']] = scaler.fit_transform(df[['avg_rating', 'latitude', 'longitude']])\n"
     ]
    }
   ],
   "source": [
    "# Standardize the 'starrating', 'latitude', and 'longitude' columns\n",
    "scaler = StandardScaler()\n",
    "df[['avg_rating', 'latitude', 'longitude']] = scaler.fit_transform(df[['avg_rating', 'latitude', 'longitude']])\n"
   ]
  },
  {
   "cell_type": "code",
   "execution_count": 289,
   "id": "b7cdb2a0",
   "metadata": {},
   "outputs": [],
   "source": [
    "# Initialize a list to store inertia values for different K\n",
    "inertia_values = []\n"
   ]
  },
  {
   "cell_type": "code",
   "execution_count": 290,
   "id": "e5d5167b",
   "metadata": {},
   "outputs": [],
   "source": [
    "# Define a range of K values to try\n",
    "k_values = range(1, 31)"
   ]
  },
  {
   "cell_type": "code",
   "execution_count": 291,
   "id": "977bf629",
   "metadata": {},
   "outputs": [],
   "source": [
    "# Calculate inertia for each K\n",
    "for k in k_values:\n",
    "    kmeans = KMeans(n_clusters=k, random_state=42)\n",
    "    kmeans.fit(df[['avg_rating', 'latitude', 'longitude']])\n",
    "    inertia_values.append(kmeans.inertia_)\n"
   ]
  },
  {
   "cell_type": "code",
   "execution_count": 292,
   "id": "94f98a3b",
   "metadata": {},
   "outputs": [
    {
     "data": {
      "image/png": "[encoded data removed]",
      "text/plain": [
       "<Figure size 640x480 with 1 Axes>"
      ]
     },
     "metadata": {},
     "output_type": "display_data"
    }
   ],
   "source": [
    "# Plot the elbow curve\n",
    "plt.plot(k_values, inertia_values, marker='o')\n",
    "plt.xlabel('Number of Clusters (K)')\n",
    "plt.ylabel('Inertia')\n",
    "plt.title('Elbow Method for Optimal K')\n",
    "plt.show()"
   ]
  },
  {
   "cell_type": "code",
   "execution_count": null,
   "id": "dae794c1",
   "metadata": {},
   "outputs": [],
   "source": []
  },
  {
   "cell_type": "code",
   "execution_count": 293,
   "id": "f8cb6d3e",
   "metadata": {},
   "outputs": [
    {
     "name": "stderr",
     "output_type": "stream",
     "text": [
      "C:\\Users\\SAYAN\\AppData\\Local\\Temp\\ipykernel_16340\\2674086426.py:3: SettingWithCopyWarning: \n",
      "A value is trying to be set on a copy of a slice from a DataFrame.\n",
      "Try using .loc[row_indexer,col_indexer] = value instead\n",
      "\n",
      "See the caveats in the documentation: https://pandas.pydata.org/pandas-docs/stable/user_guide/indexing.html#returning-a-view-versus-a-copy\n",
      "  df['cluster'] = kmeans.fit_predict(df[['avg_rating', 'latitude', 'longitude']])\n"
     ]
    }
   ],
   "source": [
    "# Create and fit K-means model\n",
    "kmeans = KMeans(n_clusters=10,init='k-means++', random_state=42)\n",
    "df['cluster'] = kmeans.fit_predict(df[['avg_rating', 'latitude', 'longitude']])\n"
   ]
  },
  {
   "cell_type": "code",
   "execution_count": 294,
   "id": "1a0889ab",
   "metadata": {},
   "outputs": [
    {
     "name": "stdout",
     "output_type": "stream",
     "text": [
      "Silhouette Score: 0.45237630513925103\n"
     ]
    }
   ],
   "source": [
    "# Compute silhouette score\n",
    "from sklearn.metrics import silhouette_score\n",
    "silhouette_avg = silhouette_score(df[['avg_rating', 'latitude', 'longitude']], df['cluster'])\n",
    "print(f'Silhouette Score: {silhouette_avg}')"
   ]
  },
  {
   "cell_type": "code",
   "execution_count": 295,
   "id": "536ac1c7",
   "metadata": {},
   "outputs": [],
   "source": [
    "# Build a BallTree for fast nearest neighbor search\n",
    "\n",
    "from sklearn.neighbors import BallTree\n",
    "\n",
    "tree = BallTree(df[['latitude', 'longitude']])"
   ]
  },
  {
   "cell_type": "code",
   "execution_count": 296,
   "id": "495a81c7",
   "metadata": {},
   "outputs": [],
   "source": [
    "# Recommendation system function\n",
    "def recommend_hotels(latitude, longitude, rating, top_n=5):\n",
    "    user_data = pd.DataFrame({\n",
    "        'avg_rating': [rating],\n",
    "        'latitude': [latitude],\n",
    "        'longitude': [longitude],\n",
    "    })\n",
    "\n",
    "    # Standardize user input\n",
    "    user_data[['avg_rating', 'latitude', 'longitude']] = scaler.transform(user_data[['avg_rating', 'latitude', 'longitude']])\n",
    "\n",
    "    # Predict cluster for user input\n",
    "    user_cluster = kmeans.predict(user_data[['avg_rating', 'latitude', 'longitude']])[0]\n",
    "\n",
    "    # Find nearest hotels using BallTree\n",
    "    distances, indices = tree.query(user_data[['latitude', 'longitude']], k=top_n)\n",
    "\n",
    "    # Get the top_n nearest hotels\n",
    "    nearest_hotels = hotel.iloc[indices[0]].sort_values(by='avg_rating', ascending=False)\n",
    "    \n",
    "    return nearest_hotels[['hotelname', 'hotelcode', 'latitude', 'longitude', 'avg_rating']]\n"
   ]
  },
  {
   "cell_type": "code",
   "execution_count": 297,
   "id": "03c1a764",
   "metadata": {},
   "outputs": [
    {
     "name": "stdout",
     "output_type": "stream",
     "text": [
      "                     hotelname  hotelcode   latitude   longitude  avg_rating\n",
      "20682           Antillia Hotel     120173  37.742489  -25.660530         4.0\n",
      "15650   Hyatt Place Farmington    2676915  40.985092 -111.908966         3.0\n",
      "105386            Hotel Matriz     894348  37.740471  -25.670771         3.0\n",
      "110035   ANC Experience Resort     138916  37.713741  -25.511259         3.0\n",
      "92821              Econo Lodge    3187889  35.465433  -84.645021         2.0\n"
     ]
    }
   ],
   "source": [
    "# Test the recommendation system\n",
    "user_latitude = 37.7749  # Replace with user's actual latitude\n",
    "user_longitude = -122.4194  # Replace with user's actual longitude\n",
    "user_rating = 4.5  # Replace with user's rating preference\n",
    "\n",
    "recommended_hotels = recommend_hotels(latitude=user_latitude, longitude=user_longitude, rating=user_rating)\n",
    "print(recommended_hotels)"
   ]
  },
  {
   "cell_type": "code",
   "execution_count": null,
   "id": "a631f32c",
   "metadata": {},
   "outputs": [],
   "source": []
  }
 ],
 "metadata": {
  "kernelspec": {
   "display_name": "Python 3 (ipykernel)",
   "language": "python",
   "name": "python3"
  },
  "language_info": {
   "codemirror_mode": {
    "name": "ipython",
    "version": 3
   },
   "file_extension": ".py",
   "mimetype": "text/x-python",
   "name": "python",
   "nbconvert_exporter": "python",
   "pygments_lexer": "ipython3",
   "version": "3.9.13"
  }
 },
 "nbformat": 4,
 "nbformat_minor": 5
}
